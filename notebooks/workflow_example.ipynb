{
 "cells": [
  {
   "cell_type": "markdown",
   "metadata": {},
   "source": [
    "# Workflow Examples"
   ]
  },
  {
   "cell_type": "markdown",
   "metadata": {},
   "source": [
    "The purpose of this notebook is to organize the logic of how data is loaded, processed, and explored using both vanilla Python and the dbdpy package. Additionally, this notebook should be used to test the functionalities of the package during development. "
   ]
  },
  {
   "cell_type": "markdown",
   "metadata": {},
   "source": [
    "# Data Loading\n",
    "\n",
    "This is the only section where each watch data will have their custom method for loading in the data. Once the data is formatted into the centralized data structure -- the rest of the workflow should be applied to the standardized format. "
   ]
  },
  {
   "cell_type": "markdown",
   "metadata": {},
   "source": [
    "### Apple Watch"
   ]
  },
  {
   "cell_type": "code",
   "execution_count": 1,
   "metadata": {},
   "outputs": [],
   "source": [
    "import pandas as pd\n",
    "import xml.etree.ElementTree as etree"
   ]
  },
  {
   "cell_type": "code",
   "execution_count": 2,
   "metadata": {},
   "outputs": [
    {
     "data": {
      "text/html": [
       "<div>\n",
       "<style scoped>\n",
       "    .dataframe tbody tr th:only-of-type {\n",
       "        vertical-align: middle;\n",
       "    }\n",
       "\n",
       "    .dataframe tbody tr th {\n",
       "        vertical-align: top;\n",
       "    }\n",
       "\n",
       "    .dataframe thead th {\n",
       "        text-align: right;\n",
       "    }\n",
       "</style>\n",
       "<table border=\"1\" class=\"dataframe\">\n",
       "  <thead>\n",
       "    <tr style=\"text-align: right;\">\n",
       "      <th></th>\n",
       "      <th>type</th>\n",
       "      <th>sourceName</th>\n",
       "      <th>sourceVersion</th>\n",
       "      <th>unit</th>\n",
       "      <th>creationDate</th>\n",
       "      <th>startDate</th>\n",
       "      <th>endDate</th>\n",
       "      <th>value</th>\n",
       "      <th>device</th>\n",
       "    </tr>\n",
       "  </thead>\n",
       "  <tbody>\n",
       "    <tr>\n",
       "      <th>0</th>\n",
       "      <td>HKQuantityTypeIdentifierHeight</td>\n",
       "      <td>ShunのiPhone</td>\n",
       "      <td>15.6.1</td>\n",
       "      <td>ft</td>\n",
       "      <td>2022-09-15 09:58:48 -0400</td>\n",
       "      <td>2022-09-15 09:58:48 -0400</td>\n",
       "      <td>2022-09-15 09:58:48 -0400</td>\n",
       "      <td>5.83333</td>\n",
       "      <td>NaN</td>\n",
       "    </tr>\n",
       "    <tr>\n",
       "      <th>1</th>\n",
       "      <td>HKQuantityTypeIdentifierBodyMass</td>\n",
       "      <td>ShunのiPhone</td>\n",
       "      <td>15.6.1</td>\n",
       "      <td>lb</td>\n",
       "      <td>2022-09-15 09:58:48 -0400</td>\n",
       "      <td>2022-09-15 09:58:48 -0400</td>\n",
       "      <td>2022-09-15 09:58:48 -0400</td>\n",
       "      <td>178</td>\n",
       "      <td>NaN</td>\n",
       "    </tr>\n",
       "    <tr>\n",
       "      <th>2</th>\n",
       "      <td>HKQuantityTypeIdentifierBodyMass</td>\n",
       "      <td>Health</td>\n",
       "      <td>15.6.1</td>\n",
       "      <td>lb</td>\n",
       "      <td>2022-11-13 21:38:37 -0400</td>\n",
       "      <td>2022-11-13 21:38:00 -0400</td>\n",
       "      <td>2022-11-13 21:38:00 -0400</td>\n",
       "      <td>180</td>\n",
       "      <td>NaN</td>\n",
       "    </tr>\n",
       "    <tr>\n",
       "      <th>3</th>\n",
       "      <td>HKQuantityTypeIdentifierBodyMass</td>\n",
       "      <td>Health</td>\n",
       "      <td>15.6.1</td>\n",
       "      <td>lb</td>\n",
       "      <td>2022-11-13 21:38:57 -0400</td>\n",
       "      <td>2022-11-13 21:42:00 -0400</td>\n",
       "      <td>2022-11-13 21:42:00 -0400</td>\n",
       "      <td>180</td>\n",
       "      <td>NaN</td>\n",
       "    </tr>\n",
       "    <tr>\n",
       "      <th>4</th>\n",
       "      <td>HKQuantityTypeIdentifierBodyMass</td>\n",
       "      <td>Health</td>\n",
       "      <td>15.6.1</td>\n",
       "      <td>lb</td>\n",
       "      <td>2022-11-13 21:39:44 -0400</td>\n",
       "      <td>2022-11-13 21:39:00 -0400</td>\n",
       "      <td>2022-11-13 21:39:00 -0400</td>\n",
       "      <td>180</td>\n",
       "      <td>NaN</td>\n",
       "    </tr>\n",
       "  </tbody>\n",
       "</table>\n",
       "</div>"
      ],
      "text/plain": [
       "                               type   sourceName sourceVersion unit  \\\n",
       "0    HKQuantityTypeIdentifierHeight  ShunのiPhone        15.6.1   ft   \n",
       "1  HKQuantityTypeIdentifierBodyMass  ShunのiPhone        15.6.1   lb   \n",
       "2  HKQuantityTypeIdentifierBodyMass       Health        15.6.1   lb   \n",
       "3  HKQuantityTypeIdentifierBodyMass       Health        15.6.1   lb   \n",
       "4  HKQuantityTypeIdentifierBodyMass       Health        15.6.1   lb   \n",
       "\n",
       "                creationDate                  startDate  \\\n",
       "0  2022-09-15 09:58:48 -0400  2022-09-15 09:58:48 -0400   \n",
       "1  2022-09-15 09:58:48 -0400  2022-09-15 09:58:48 -0400   \n",
       "2  2022-11-13 21:38:37 -0400  2022-11-13 21:38:00 -0400   \n",
       "3  2022-11-13 21:38:57 -0400  2022-11-13 21:42:00 -0400   \n",
       "4  2022-11-13 21:39:44 -0400  2022-11-13 21:39:00 -0400   \n",
       "\n",
       "                     endDate    value device  \n",
       "0  2022-09-15 09:58:48 -0400  5.83333    NaN  \n",
       "1  2022-09-15 09:58:48 -0400      178    NaN  \n",
       "2  2022-11-13 21:38:00 -0400      180    NaN  \n",
       "3  2022-11-13 21:42:00 -0400      180    NaN  \n",
       "4  2022-11-13 21:39:00 -0400      180    NaN  "
      ]
     },
     "execution_count": 2,
     "metadata": {},
     "output_type": "execute_result"
    }
   ],
   "source": [
    "# Read in export.xml file\n",
    "tree = etree.parse(\"data/apple/export.xml\")\n",
    "root = tree.getroot()\n",
    "record_list = [x.attrib for x in root.iter(\"Record\")]\n",
    "record_df = pd.DataFrame(record_list)\n",
    "record_df.head()"
   ]
  },
  {
   "cell_type": "code",
   "execution_count": 3,
   "metadata": {},
   "outputs": [],
   "source": [
    "### Parse record\n",
    "# Set datetime to ISO 8601 format\n",
    "datetime_cols = [\"creationDate\", \"startDate\", \"endDate\"]\n",
    "record_df[datetime_cols] = record_df[datetime_cols].apply(lambda x: pd.to_datetime(x).dt.strftime(\"%Y-%m-%dT%H:%M:%S\"))\n",
    "\n",
    "# Convert values to numeric type\n",
    "record_df[\"value\"] = pd.to_numeric(record_df[\"value\"], errors=\"coerce\")\n",
    "\n",
    "# Shorten observation names\n",
    "record_df[\"type\"] = record_df[\"type\"].str.replace(\"HKQuantityTypeIdentifier\", \"\")\n",
    "record_df[\"type\"] = record_df[\"type\"].str.replace(\"HKCategoryTypeIdentifier\", \"\")\n",
    "\n",
    "# De-identify souce name? \n",
    "\n",
    "# Remove unnecessary columns? \n",
    "\n",
    "energy = record_df[record_df[\"type\"] == \"BasalEnergyBurned\"]\n",
    "steps = record_df[record_df[\"type\"] == \"StepCount\"]\n",
    "distance = record_df[record_df[\"type\"] == \"DistanceWalkingRunning\"]\n",
    "oxygen = record_df[record_df[\"type\"] == \"OxygenSaturation\"]\n",
    "resting_heart_rate = record_df[record_df[\"type\"] == \"RestingHeartRate\"]\n",
    "heart_rate = record_df[record_df[\"type\"] == \"HeartRate\"]\n",
    "respiration_rate = record_df[record_df[\"type\"] == \"RespiratoryRate\"]\n",
    "sleep = record_df[record_df[\"type\"] == \"SleepAnalysis\"]"
   ]
  },
  {
   "cell_type": "markdown",
   "metadata": {},
   "source": [
    "### Garmin"
   ]
  },
  {
   "cell_type": "markdown",
   "metadata": {},
   "source": [
    "## Using dbdpy"
   ]
  },
  {
   "cell_type": "code",
   "execution_count": 50,
   "metadata": {},
   "outputs": [
    {
     "data": {
      "text/plain": [
       "<module 'dbdpy' from '/Users/billchen/Desktop/dbdpy/dbdpy/__init__.py'>"
      ]
     },
     "execution_count": 50,
     "metadata": {},
     "output_type": "execute_result"
    }
   ],
   "source": [
    "import importlib\n",
    "from pathlib import Path\n",
    "import dbdpy\n",
    "from dbdpy import AppleWatch\n",
    "importlib.reload(dbdpy)"
   ]
  },
  {
   "cell_type": "code",
   "execution_count": 51,
   "metadata": {},
   "outputs": [],
   "source": [
    "filepath = Path(\"./data/apple/export.xml\")\n",
    "watch_data = AppleWatch.read_file(filepath)"
   ]
  },
  {
   "cell_type": "code",
   "execution_count": 52,
   "metadata": {},
   "outputs": [
    {
     "data": {
      "text/html": [
       "<div>\n",
       "<style scoped>\n",
       "    .dataframe tbody tr th:only-of-type {\n",
       "        vertical-align: middle;\n",
       "    }\n",
       "\n",
       "    .dataframe tbody tr th {\n",
       "        vertical-align: top;\n",
       "    }\n",
       "\n",
       "    .dataframe thead th {\n",
       "        text-align: right;\n",
       "    }\n",
       "</style>\n",
       "<table border=\"1\" class=\"dataframe\">\n",
       "  <thead>\n",
       "    <tr style=\"text-align: right;\">\n",
       "      <th></th>\n",
       "      <th>startDate</th>\n",
       "      <th>endDate</th>\n",
       "      <th>value</th>\n",
       "    </tr>\n",
       "  </thead>\n",
       "  <tbody>\n",
       "    <tr>\n",
       "      <th>525930</th>\n",
       "      <td>2022-12-28T11:58:04</td>\n",
       "      <td>2022-12-28T12:22:34</td>\n",
       "      <td>NaN</td>\n",
       "    </tr>\n",
       "    <tr>\n",
       "      <th>525932</th>\n",
       "      <td>2022-12-28T12:22:34</td>\n",
       "      <td>2022-12-28T12:36:34</td>\n",
       "      <td>NaN</td>\n",
       "    </tr>\n",
       "    <tr>\n",
       "      <th>525933</th>\n",
       "      <td>2022-12-28T12:36:34</td>\n",
       "      <td>2022-12-28T12:56:04</td>\n",
       "      <td>NaN</td>\n",
       "    </tr>\n",
       "    <tr>\n",
       "      <th>525935</th>\n",
       "      <td>2022-12-28T12:56:04</td>\n",
       "      <td>2022-12-28T13:12:04</td>\n",
       "      <td>NaN</td>\n",
       "    </tr>\n",
       "    <tr>\n",
       "      <th>525936</th>\n",
       "      <td>2022-12-28T13:12:04</td>\n",
       "      <td>2022-12-28T13:29:04</td>\n",
       "      <td>NaN</td>\n",
       "    </tr>\n",
       "    <tr>\n",
       "      <th>...</th>\n",
       "      <td>...</td>\n",
       "      <td>...</td>\n",
       "      <td>...</td>\n",
       "    </tr>\n",
       "    <tr>\n",
       "      <th>532623</th>\n",
       "      <td>2023-09-30T09:15:31</td>\n",
       "      <td>2023-09-30T09:19:31</td>\n",
       "      <td>NaN</td>\n",
       "    </tr>\n",
       "    <tr>\n",
       "      <th>532624</th>\n",
       "      <td>2023-09-30T09:15:31</td>\n",
       "      <td>2023-09-30T09:19:31</td>\n",
       "      <td>NaN</td>\n",
       "    </tr>\n",
       "    <tr>\n",
       "      <th>532625</th>\n",
       "      <td>2023-09-30T09:19:31</td>\n",
       "      <td>2023-09-30T09:21:31</td>\n",
       "      <td>NaN</td>\n",
       "    </tr>\n",
       "    <tr>\n",
       "      <th>532626</th>\n",
       "      <td>2023-09-30T09:21:31</td>\n",
       "      <td>2023-09-30T09:23:31</td>\n",
       "      <td>NaN</td>\n",
       "    </tr>\n",
       "    <tr>\n",
       "      <th>532627</th>\n",
       "      <td>2023-09-30T09:21:31</td>\n",
       "      <td>2023-09-30T09:23:31</td>\n",
       "      <td>NaN</td>\n",
       "    </tr>\n",
       "  </tbody>\n",
       "</table>\n",
       "<p>2869 rows × 3 columns</p>\n",
       "</div>"
      ],
      "text/plain": [
       "                  startDate              endDate  value\n",
       "525930  2022-12-28T11:58:04  2022-12-28T12:22:34    NaN\n",
       "525932  2022-12-28T12:22:34  2022-12-28T12:36:34    NaN\n",
       "525933  2022-12-28T12:36:34  2022-12-28T12:56:04    NaN\n",
       "525935  2022-12-28T12:56:04  2022-12-28T13:12:04    NaN\n",
       "525936  2022-12-28T13:12:04  2022-12-28T13:29:04    NaN\n",
       "...                     ...                  ...    ...\n",
       "532623  2023-09-30T09:15:31  2023-09-30T09:19:31    NaN\n",
       "532624  2023-09-30T09:15:31  2023-09-30T09:19:31    NaN\n",
       "532625  2023-09-30T09:19:31  2023-09-30T09:21:31    NaN\n",
       "532626  2023-09-30T09:21:31  2023-09-30T09:23:31    NaN\n",
       "532627  2023-09-30T09:21:31  2023-09-30T09:23:31    NaN\n",
       "\n",
       "[2869 rows x 3 columns]"
      ]
     },
     "execution_count": 52,
     "metadata": {},
     "output_type": "execute_result"
    }
   ],
   "source": [
    "watch_data.sleep"
   ]
  },
  {
   "cell_type": "code",
   "execution_count": null,
   "metadata": {},
   "outputs": [],
   "source": []
  }
 ],
 "metadata": {
  "kernelspec": {
   "display_name": "dbdpy-env",
   "language": "python",
   "name": "python3"
  },
  "language_info": {
   "codemirror_mode": {
    "name": "ipython",
    "version": 3
   },
   "file_extension": ".py",
   "mimetype": "text/x-python",
   "name": "python",
   "nbconvert_exporter": "python",
   "pygments_lexer": "ipython3",
   "version": "3.9.6"
  }
 },
 "nbformat": 4,
 "nbformat_minor": 2
}
