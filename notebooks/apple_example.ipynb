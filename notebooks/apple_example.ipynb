{
 "cells": [
  {
   "cell_type": "markdown",
   "metadata": {},
   "source": [
    "The purpose of this notebook is to demonstrate utilizing dbdpy to analyze data from Apple Watch. This will be completed two ways: once without dbdpy and once with the package. "
   ]
  },
  {
   "cell_type": "markdown",
   "metadata": {},
   "source": [
    "## Using Basic Python"
   ]
  },
  {
   "cell_type": "code",
   "execution_count": 1,
   "metadata": {},
   "outputs": [],
   "source": [
    "import pandas as pd\n",
    "import xml.etree.ElementTree as etree"
   ]
  },
  {
   "cell_type": "code",
   "execution_count": 2,
   "metadata": {},
   "outputs": [
    {
     "data": {
      "text/html": [
       "<div>\n",
       "<style scoped>\n",
       "    .dataframe tbody tr th:only-of-type {\n",
       "        vertical-align: middle;\n",
       "    }\n",
       "\n",
       "    .dataframe tbody tr th {\n",
       "        vertical-align: top;\n",
       "    }\n",
       "\n",
       "    .dataframe thead th {\n",
       "        text-align: right;\n",
       "    }\n",
       "</style>\n",
       "<table border=\"1\" class=\"dataframe\">\n",
       "  <thead>\n",
       "    <tr style=\"text-align: right;\">\n",
       "      <th></th>\n",
       "      <th>type</th>\n",
       "      <th>sourceName</th>\n",
       "      <th>sourceVersion</th>\n",
       "      <th>unit</th>\n",
       "      <th>creationDate</th>\n",
       "      <th>startDate</th>\n",
       "      <th>endDate</th>\n",
       "      <th>value</th>\n",
       "      <th>device</th>\n",
       "    </tr>\n",
       "  </thead>\n",
       "  <tbody>\n",
       "    <tr>\n",
       "      <th>0</th>\n",
       "      <td>HKQuantityTypeIdentifierHeight</td>\n",
       "      <td>ShunのiPhone</td>\n",
       "      <td>15.6.1</td>\n",
       "      <td>ft</td>\n",
       "      <td>2022-09-15 09:58:48 -0400</td>\n",
       "      <td>2022-09-15 09:58:48 -0400</td>\n",
       "      <td>2022-09-15 09:58:48 -0400</td>\n",
       "      <td>5.83333</td>\n",
       "      <td>NaN</td>\n",
       "    </tr>\n",
       "    <tr>\n",
       "      <th>1</th>\n",
       "      <td>HKQuantityTypeIdentifierBodyMass</td>\n",
       "      <td>ShunのiPhone</td>\n",
       "      <td>15.6.1</td>\n",
       "      <td>lb</td>\n",
       "      <td>2022-09-15 09:58:48 -0400</td>\n",
       "      <td>2022-09-15 09:58:48 -0400</td>\n",
       "      <td>2022-09-15 09:58:48 -0400</td>\n",
       "      <td>178</td>\n",
       "      <td>NaN</td>\n",
       "    </tr>\n",
       "    <tr>\n",
       "      <th>2</th>\n",
       "      <td>HKQuantityTypeIdentifierBodyMass</td>\n",
       "      <td>Health</td>\n",
       "      <td>15.6.1</td>\n",
       "      <td>lb</td>\n",
       "      <td>2022-11-13 21:38:37 -0400</td>\n",
       "      <td>2022-11-13 21:38:00 -0400</td>\n",
       "      <td>2022-11-13 21:38:00 -0400</td>\n",
       "      <td>180</td>\n",
       "      <td>NaN</td>\n",
       "    </tr>\n",
       "    <tr>\n",
       "      <th>3</th>\n",
       "      <td>HKQuantityTypeIdentifierBodyMass</td>\n",
       "      <td>Health</td>\n",
       "      <td>15.6.1</td>\n",
       "      <td>lb</td>\n",
       "      <td>2022-11-13 21:38:57 -0400</td>\n",
       "      <td>2022-11-13 21:42:00 -0400</td>\n",
       "      <td>2022-11-13 21:42:00 -0400</td>\n",
       "      <td>180</td>\n",
       "      <td>NaN</td>\n",
       "    </tr>\n",
       "    <tr>\n",
       "      <th>4</th>\n",
       "      <td>HKQuantityTypeIdentifierBodyMass</td>\n",
       "      <td>Health</td>\n",
       "      <td>15.6.1</td>\n",
       "      <td>lb</td>\n",
       "      <td>2022-11-13 21:39:44 -0400</td>\n",
       "      <td>2022-11-13 21:39:00 -0400</td>\n",
       "      <td>2022-11-13 21:39:00 -0400</td>\n",
       "      <td>180</td>\n",
       "      <td>NaN</td>\n",
       "    </tr>\n",
       "  </tbody>\n",
       "</table>\n",
       "</div>"
      ],
      "text/plain": [
       "                               type   sourceName sourceVersion unit  \\\n",
       "0    HKQuantityTypeIdentifierHeight  ShunのiPhone        15.6.1   ft   \n",
       "1  HKQuantityTypeIdentifierBodyMass  ShunのiPhone        15.6.1   lb   \n",
       "2  HKQuantityTypeIdentifierBodyMass       Health        15.6.1   lb   \n",
       "3  HKQuantityTypeIdentifierBodyMass       Health        15.6.1   lb   \n",
       "4  HKQuantityTypeIdentifierBodyMass       Health        15.6.1   lb   \n",
       "\n",
       "                creationDate                  startDate  \\\n",
       "0  2022-09-15 09:58:48 -0400  2022-09-15 09:58:48 -0400   \n",
       "1  2022-09-15 09:58:48 -0400  2022-09-15 09:58:48 -0400   \n",
       "2  2022-11-13 21:38:37 -0400  2022-11-13 21:38:00 -0400   \n",
       "3  2022-11-13 21:38:57 -0400  2022-11-13 21:42:00 -0400   \n",
       "4  2022-11-13 21:39:44 -0400  2022-11-13 21:39:00 -0400   \n",
       "\n",
       "                     endDate    value device  \n",
       "0  2022-09-15 09:58:48 -0400  5.83333    NaN  \n",
       "1  2022-09-15 09:58:48 -0400      178    NaN  \n",
       "2  2022-11-13 21:38:00 -0400      180    NaN  \n",
       "3  2022-11-13 21:42:00 -0400      180    NaN  \n",
       "4  2022-11-13 21:39:00 -0400      180    NaN  "
      ]
     },
     "execution_count": 2,
     "metadata": {},
     "output_type": "execute_result"
    }
   ],
   "source": [
    "# Read in export.xml file\n",
    "tree = etree.parse(\"data/apple/export.xml\")\n",
    "root = tree.getroot()\n",
    "record_list = [x.attrib for x in root.iter(\"Record\")]\n",
    "record_df = pd.DataFrame(record_list)\n",
    "record_df.head()"
   ]
  },
  {
   "cell_type": "code",
   "execution_count": 3,
   "metadata": {},
   "outputs": [],
   "source": [
    "### Parse record\n",
    "# Set datetime to ISO 8601 format\n",
    "datetime_cols = [\"creationDate\", \"startDate\", \"endDate\"]\n",
    "record_df[datetime_cols] = record_df[datetime_cols].apply(lambda x: pd.to_datetime(x).dt.strftime(\"%Y-%m-%dT%H:%M:%S\"))\n",
    "\n",
    "# Convert values to numeric type\n",
    "record_df[\"value\"] = pd.to_numeric(record_df[\"value\"], errors=\"coerce\")\n",
    "\n",
    "# Shorten observation names\n",
    "record_df[\"type\"] = record_df[\"type\"].str.replace(\"HKQuantityTypeIdentifier\", \"\")\n",
    "record_df[\"type\"] = record_df[\"type\"].str.replace(\"HKCategoryTypeIdentifier\", \"\")\n",
    "\n",
    "# De-identify souce name? \n",
    "\n",
    "# Remove unnecessary columns? \n",
    "\n",
    "energy = record_df[record_df[\"type\"] == \"BasalEnergyBurned\"]\n",
    "steps = record_df[record_df[\"type\"] == \"StepCount\"]\n",
    "distance = record_df[record_df[\"type\"] == \"DistanceWalkingRunning\"]\n",
    "oxygen = record_df[record_df[\"type\"] == \"OxygenSaturation\"]\n",
    "resting_heart_rate = record_df[record_df[\"type\"] == \"RestingHeartRate\"]\n",
    "heart_rate = record_df[record_df[\"type\"] == \"HeartRate\"]\n",
    "respiration_rate = record_df[record_df[\"type\"] == \"RespiratoryRate\"]\n",
    "sleep = record_df[record_df[\"type\"] == \"SleepAnalysis\"]"
   ]
  },
  {
   "cell_type": "markdown",
   "metadata": {},
   "source": [
    "## Using dbdpy"
   ]
  },
  {
   "cell_type": "code",
   "execution_count": 46,
   "metadata": {},
   "outputs": [
    {
     "data": {
      "text/plain": [
       "<module 'dbdpy' from '/Users/billchen/Desktop/dbdpy/dbdpy/__init__.py'>"
      ]
     },
     "execution_count": 46,
     "metadata": {},
     "output_type": "execute_result"
    }
   ],
   "source": [
    "import importlib\n",
    "from pathlib import Path\n",
    "import dbdpy\n",
    "importlib.reload(dbdpy)"
   ]
  },
  {
   "cell_type": "code",
   "execution_count": 47,
   "metadata": {},
   "outputs": [],
   "source": [
    "filepath = Path(\"./data/apple/export.xml\")\n",
    "watch_data = dbdpy.AppleWatch.read_file(filepath)"
   ]
  },
  {
   "cell_type": "code",
   "execution_count": 48,
   "metadata": {},
   "outputs": [
    {
     "data": {
      "text/plain": [
       "array([nan])"
      ]
     },
     "execution_count": 48,
     "metadata": {},
     "output_type": "execute_result"
    }
   ],
   "source": [
    "watch_data.sleep.value.unique()"
   ]
  },
  {
   "cell_type": "code",
   "execution_count": null,
   "metadata": {},
   "outputs": [],
   "source": []
  }
 ],
 "metadata": {
  "kernelspec": {
   "display_name": "dbdpy-env",
   "language": "python",
   "name": "python3"
  },
  "language_info": {
   "codemirror_mode": {
    "name": "ipython",
    "version": 3
   },
   "file_extension": ".py",
   "mimetype": "text/x-python",
   "name": "python",
   "nbconvert_exporter": "python",
   "pygments_lexer": "ipython3",
   "version": "3.9.6"
  }
 },
 "nbformat": 4,
 "nbformat_minor": 2
}
